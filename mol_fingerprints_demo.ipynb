{
 "cells": [
  {
   "cell_type": "markdown",
   "metadata": {},
   "source": [
    "# Molecular fingerprints demo for SIH\n",
    "\n",
    "A basic demo showing the scale of the problem setting\n"
   ]
  },
  {
   "cell_type": "code",
   "execution_count": 37,
   "metadata": {},
   "outputs": [],
   "source": [
    "from scipy import sparse\n",
    "import numpy as np\n",
    "import matplotlib.pyplot as plt\n",
    "from seaborn import kdeplot"
   ]
  },
  {
   "cell_type": "code",
   "execution_count": 9,
   "metadata": {},
   "outputs": [
    {
     "name": "stdout",
     "output_type": "stream",
     "text": [
      "(358938, 32768)\n"
     ]
    }
   ],
   "source": [
    "X = sparse.load_npz('./morgan.npz').astype(bool)\n",
    "\n",
    "print(X.shape)"
   ]
  },
  {
   "cell_type": "markdown",
   "metadata": {},
   "source": [
    "There are `358,938` instances. Each instance is featurized as a `32,768` dimensional vector here, but it's already been folded down to this level. \n",
    "\n",
    "For regularized estimators, the high dimensionality is no problem. But for non-regularized estimators the high dimensionality can lead to issues. The fingerprint is easily folded down to a smaller dimensionality, but this can result in some loss of data due to bit collisions:"
   ]
  },
  {
   "cell_type": "code",
   "execution_count": 18,
   "metadata": {},
   "outputs": [
    {
     "name": "stdout",
     "output_type": "stream",
     "text": [
      "Original size: 32768\n",
      "Folded 1 time: 16384\n",
      "Folded 2 times: 8192\n",
      "Folded 3 times: 4096\n"
     ]
    }
   ],
   "source": [
    "def fold_fingerprints(feature_matrix):\n",
    "    \"\"\"Folds a fingerprint matrix by bitwise OR.\n",
    "    (scipy will perform the bitwise OR because the input data is bool,\n",
    "    and will not cast to int when two Trues are added.\"\"\"\n",
    "\n",
    "    ncols = feature_matrix.shape[1]\n",
    "    return feature_matrix[:,:ncols//2] + feature_matrix[:,ncols//2:]\n",
    "\n",
    "\n",
    "print('Original size:', X.shape[1])\n",
    "\n",
    "print('Folded 1 time:', fold_fingerprints(X).shape[1])\n",
    "\n",
    "print('Folded 2 times:', fold_fingerprints(fold_fingerprints(X)).shape[1])\n",
    "\n",
    "print('Folded 3 times:', fold_fingerprints(fold_fingerprints(fold_fingerprints(X))).shape[1])\n",
    "\n"
   ]
  },
  {
   "cell_type": "markdown",
   "metadata": {},
   "source": [
    "The reason folding like this is generally OK is because the fingerprints are highly sparse, making bit-collisions quite rare until you get to smaller sizes (anything below 4096 or so). \n",
    "\n",
    "Sparsity:"
   ]
  },
  {
   "cell_type": "code",
   "execution_count": 24,
   "metadata": {},
   "outputs": [
    {
     "name": "stdout",
     "output_type": "stream",
     "text": [
      "Feature matrix is 0.001654688136779759 dense\n"
     ]
    }
   ],
   "source": [
    "sparsity = X.sum() / (X.shape[0] * X.shape[1])\n",
    "print(f'Feature matrix is {sparsity} dense')"
   ]
  },
  {
   "cell_type": "markdown",
   "metadata": {},
   "source": [
    "Each instance has around 50 \"on\" bits:\n"
   ]
  },
  {
   "cell_type": "code",
   "execution_count": 60,
   "metadata": {},
   "outputs": [
    {
     "data": {
      "text/plain": [
       "Text(0, 0.5, 'Density')"
      ]
     },
     "execution_count": 60,
     "metadata": {},
     "output_type": "execute_result"
    },
    {
     "data": {
      "image/png": "[encoded data removed]",
      "text/plain": [
       "<Figure size 432x288 with 1 Axes>"
      ]
     },
     "metadata": {
      "needs_background": "light"
     },
     "output_type": "display_data"
    }
   ],
   "source": [
    "samples_idx = np.random.choice(X.shape[0], 10000)\n",
    "samples = X[samples_idx]\n",
    "n_bits = np.array(samples.sum(1))\n",
    "\n",
    "fsize =15\n",
    "kdeplot(n_bits.flatten())\n",
    "plt.xlabel('Number of bits per ligand',fontsize=fsize)\n",
    "plt.ylabel('Density',fontsize=fsize)"
   ]
  },
  {
   "cell_type": "markdown",
   "metadata": {},
   "source": [
    "The bits result from a hashing function so should be evenly distributed. But some molecular substructures are more common than others, so there is actually some bits that are more popular. If desired, these could simply be removed since they aren't "
   ]
  },
  {
   "cell_type": "code",
   "execution_count": 102,
   "metadata": {},
   "outputs": [],
   "source": [
    "bit, count = np.unique(X.indices, return_counts=True)"
   ]
  },
  {
   "cell_type": "code",
   "execution_count": null,
   "metadata": {},
   "outputs": [
    {
     "data": {
      "text/plain": [
       "Text(0.5, 0, 'Bits in order of popularity')"
      ]
     },
     "execution_count": 122,
     "metadata": {},
     "output_type": "execute_result"
    }
   ],
   "source": [
    "plt.scatter(np.arange(len(count)), count[count.argsort()], facecolor='white',edgecolor='C0')\n",
    "plt.yscale('log')\n",
    "\n",
    "plt.ylabel('Number of occurrences', fontsize=fsize)\n",
    "plt.xlabel('Bits in order of popularity')"
   ]
  },
  {
   "cell_type": "code",
   "execution_count": null,
   "metadata": {},
   "outputs": [],
   "source": []
  },
  {
   "cell_type": "markdown",
   "metadata": {},
   "source": [
    "# The label matrix\n",
    "\n",
    "The labels are multi-label (multiple possible labels, and any given instance can have more than one of those labels). This data set has `344` labels. \n",
    "\n",
    "Most instances have a single label. But the label matrix is incompletely sampled - it's really a Positive-Unlabelled Learning setting (or graph learning, like recommender systems).\n",
    "\n",
    "In practice, whenever we use linear learners like LogReg or SVC, people use the OvR approximation. Random forests or network-graph algorithms might have an advantage here due to correct handling of multilabel setting. \n",
    "\n",
    "Preliminary data show that you can use the network graph to embed the feature vectors into a new space that emphasises similarity of orthogonal features - kind of like metric learning. "
   ]
  },
  {
   "cell_type": "code",
   "execution_count": 62,
   "metadata": {},
   "outputs": [
    {
     "name": "stdout",
     "output_type": "stream",
     "text": [
      "(358938, 344)\n"
     ]
    },
    {
     "data": {
      "text/plain": [
       "array([[0., 0., 0., 0., 0., 0., 0., 0., 0., 0., 0., 0., 0., 0., 0., 0.,\n",
       "        0., 0., 0., 0., 0., 0., 0., 0., 0., 1., 0., 0., 0., 1., 0., 0.,\n",
       "        0., 0., 0., 0., 0., 0., 0., 1., 0., 0., 0., 0., 0., 0., 0., 0.,\n",
       "        0., 0., 0., 1., 0., 0., 0., 0., 0., 0., 0., 0., 1., 0., 0., 0.,\n",
       "        0., 0., 0., 0., 0., 0., 0., 1., 0., 0., 0., 0., 0., 0., 0., 0.,\n",
       "        0., 0., 0., 0., 0., 0., 0., 0., 0., 1., 1., 0., 0., 0., 0., 0.,\n",
       "        0., 0., 0., 1., 0., 0., 0., 0., 0., 1., 0., 1., 0., 0., 0., 0.,\n",
       "        0., 0., 0., 0., 0., 0., 0., 0., 0., 0., 0., 0., 0., 0., 0., 0.,\n",
       "        0., 0., 0., 0., 0., 0., 0., 0., 1., 0., 0., 0., 0., 0., 0., 0.,\n",
       "        0., 0., 1., 0., 0., 0., 0., 0., 1., 0., 0., 1., 1., 0., 0., 1.,\n",
       "        0., 0., 0., 0., 0., 0., 0., 0., 0., 0., 0., 1., 0., 0., 0., 0.,\n",
       "        0., 0., 0., 0., 1., 0., 0., 0., 0., 0., 0., 0., 0., 0., 0., 0.,\n",
       "        0., 0., 0., 0., 0., 0., 0., 0., 0., 0., 0., 0., 0., 0., 0., 0.,\n",
       "        0., 0., 0., 0., 0., 1., 0., 1., 1., 0., 0., 0., 0., 0., 0., 1.,\n",
       "        0., 0., 0., 0., 0., 1., 0., 0., 0., 0., 0., 1., 0., 0., 0., 0.,\n",
       "        0., 0., 0., 0., 0., 0., 0., 0., 0., 0., 0., 0., 0., 0., 0., 0.,\n",
       "        0., 1., 0., 0., 0., 0., 0., 0., 0., 0., 0., 0., 0., 1., 0., 0.,\n",
       "        0., 0., 0., 0., 0., 0., 0., 0., 0., 0., 0., 0., 0., 0., 0., 1.,\n",
       "        0., 0., 0., 0., 0., 0., 0., 0., 0., 0., 0., 0., 0., 0., 0., 0.,\n",
       "        0., 0., 0., 0., 0., 0., 1., 0., 0., 0., 0., 0., 0., 0., 0., 0.,\n",
       "        0., 1., 0., 0., 0., 0., 0., 0., 0., 0., 0., 0., 0., 0., 0., 0.,\n",
       "        0., 0., 0., 0., 0., 0., 0., 1.]])"
      ]
     },
     "execution_count": 62,
     "metadata": {},
     "output_type": "execute_result"
    }
   ],
   "source": [
    "y = sparse.load_npz('interaction_matrix_pchembl.npz')\n",
    "print(y.shape)\n",
    "y[0].toarray()"
   ]
  },
  {
   "cell_type": "code",
   "execution_count": 96,
   "metadata": {},
   "outputs": [
    {
     "data": {
      "text/plain": [
       "Text(0, 0.5, 'Density')"
      ]
     },
     "execution_count": 96,
     "metadata": {},
     "output_type": "execute_result"
    },
    {
     "data": {
      "image/png": "[encoded data removed]",
      "text/plain": [
       "<Figure size 432x288 with 1 Axes>"
      ]
     },
     "metadata": {
      "needs_background": "light"
     },
     "output_type": "display_data"
    }
   ],
   "source": [
    "\n",
    "##most ligands have only one label, but a good fraction are multilabel:\n",
    "\n",
    "samples_idx = np.random.choice(y.shape[0], 10000)\n",
    "samples = y[samples_idx]\n",
    "n_labels = np.array(samples.sum(1))\n",
    "\n",
    "\n",
    "plt.hist(n_labels.flatten(), bins=np.arange(n_labels.max())+1)\n",
    "plt.xlabel('Number of labels per ligand',fontsize=fsize)\n",
    "plt.ylabel('Density', fontsize=fsize)"
   ]
  },
  {
   "cell_type": "markdown",
   "metadata": {},
   "source": [
    "# Label imbalance:"
   ]
  },
  {
   "cell_type": "code",
   "execution_count": 94,
   "metadata": {},
   "outputs": [
    {
     "data": {
      "text/plain": [
       "array([1587., 3087., 1949.,  497.,  480., 1719., 1513.,  640., 2705.,\n",
       "        458., 1267.,  582.,  612., 2195.,  795.])"
      ]
     },
     "execution_count": 94,
     "metadata": {},
     "output_type": "execute_result"
    }
   ],
   "source": [
    "num_labels = np.array(y.sum(0))[0]\n",
    "num_labels[:15]"
   ]
  },
  {
   "cell_type": "code",
   "execution_count": 95,
   "metadata": {},
   "outputs": [
    {
     "data": {
      "text/plain": [
       "Text(0.5, 0, 'Number of instances')"
      ]
     },
     "execution_count": 95,
     "metadata": {},
     "output_type": "execute_result"
    },
    {
     "data": {
      "image/png": "[encoded data removed]",
      "text/plain": [
       "<Figure size 432x288 with 1 Axes>"
      ]
     },
     "metadata": {
      "needs_background": "light"
     },
     "output_type": "display_data"
    }
   ],
   "source": [
    "plt.hist(num_labels, bins=25)\n",
    "plt.xlabel('Number of instances')"
   ]
  },
  {
   "cell_type": "markdown",
   "metadata": {},
   "source": [
    "# Jaccard coefficient (or Dice)\n",
    "\n",
    "Jaccard and Dice coefficient can be done very quickly on high dimensional vectors, because scipy ignores all zeros when doing the dot product. The time to calculate distances scales with the number of features per instance, not the total number of possible features"
   ]
  },
  {
   "cell_type": "markdown",
   "metadata": {},
   "source": [
    "I generally exclude targets with less than `~150` instances. This particular dataset has at least 500 instances per label, and up to 15,000 instances, but this upper limit could be increased to ~30,000\n",
    "\n",
    "Remember, when using the OvR approximation this can result in `500:350,000` imbalance.\n",
    "\n",
    "In a recent publication I showed how to sub-sample the data to maintain about a `1:10`ratio. \n"
   ]
  },
  {
   "cell_type": "code",
   "execution_count": 65,
   "metadata": {},
   "outputs": [],
   "source": [
    "def fast_jaccard(X, Y=None):\n",
    "    \"\"\"credit: https://stackoverflow.com/questions/32805916/compute-jaccard-distances-on-sparse-matrix\"\"\"\n",
    "    if isinstance(X, np.ndarray):\n",
    "        X = sparse.csr_matrix(X)\n",
    "    if Y is None:\n",
    "        Y = X\n",
    "    else:\n",
    "        if isinstance(Y, np.ndarray):\n",
    "            Y = sparse.csr_matrix(Y)\n",
    "    assert X.shape[1] == Y.shape[1]\n",
    "\n",
    "    X = X.astype(bool).astype(int)\n",
    "    Y = Y.astype(bool).astype(int)\n",
    "    \n",
    "    intersect = X.dot(Y.T)\n",
    "    x_sum = X.sum(axis=1).A1\n",
    "    y_sum = Y.sum(axis=1).A1\n",
    "    xx, yy = np.meshgrid(x_sum, y_sum)\n",
    "    union = ((xx + yy).T - intersect)\n",
    "    return (1 - intersect / union).A\n",
    "\n",
    "def fast_dice(X, Y=None):\n",
    "    if isinstance(X, np.ndarray):\n",
    "        X = sparse.csr_matrix(X).astype(bool).astype(int)\n",
    "    if Y is None:\n",
    "        Y = X\n",
    "    else:\n",
    "        if isinstance(Y, np.ndarray):\n",
    "            Y = sparse.csr_matrix(Y).astype(bool).astype(int)\n",
    "            \n",
    "    intersect = X.dot(Y.T)\n",
    "    #cardinality = X.sum(1).A\n",
    "    cardinality_X = X.getnnz(1)[:,None] #slightly faster on large matrices - 13s vs 16s for 12k x 12k\n",
    "    cardinality_Y = Y.getnnz(1) #slightly faster on large matrices - 13s vs 16s for 12k x 12k\n",
    "    return (1-(2*intersect) / (cardinality_X+cardinality_Y.T)).A\n"
   ]
  },
  {
   "cell_type": "markdown",
   "metadata": {},
   "source": [
    "Take a random sample of ligands and find the pairwise Jaccard distance between them:"
   ]
  },
  {
   "cell_type": "code",
   "execution_count": 70,
   "metadata": {},
   "outputs": [],
   "source": [
    "sample_idx = np.random.choice(X.shape[0], 5000)\n",
    "\n",
    "samples = X[sample_idx]"
   ]
  },
  {
   "cell_type": "code",
   "execution_count": 71,
   "metadata": {},
   "outputs": [
    {
     "data": {
      "text/plain": [
       "array([[0.        , 0.9245283 , 0.8677686 , ..., 0.89565217, 0.91891892,\n",
       "        0.95402299],\n",
       "       [0.9245283 , 0.        , 0.91      , ..., 0.84883721, 0.85      ,\n",
       "        0.89473684],\n",
       "       [0.8677686 , 0.91      , 0.        , ..., 0.92035398, 0.91509434,\n",
       "        0.9382716 ],\n",
       "       ...,\n",
       "       [0.89565217, 0.84883721, 0.92035398, ..., 0.        , 0.88297872,\n",
       "        0.94444444],\n",
       "       [0.91891892, 0.85      , 0.91509434, ..., 0.88297872, 0.        ,\n",
       "        0.9047619 ],\n",
       "       [0.95402299, 0.89473684, 0.9382716 , ..., 0.94444444, 0.9047619 ,\n",
       "        0.        ]])"
      ]
     },
     "execution_count": 71,
     "metadata": {},
     "output_type": "execute_result"
    }
   ],
   "source": [
    "fast_jaccard(samples)"
   ]
  },
  {
   "cell_type": "code",
   "execution_count": 72,
   "metadata": {},
   "outputs": [
    {
     "name": "stdout",
     "output_type": "stream",
     "text": [
      "1.68 s ± 84.5 ms per loop (mean ± std. dev. of 7 runs, 1 loop each)\n"
     ]
    }
   ],
   "source": [
    "%%timeit\n",
    "fast_jaccard(samples)"
   ]
  },
  {
   "cell_type": "code",
   "execution_count": 73,
   "metadata": {},
   "outputs": [
    {
     "name": "stdout",
     "output_type": "stream",
     "text": [
      "41.1 ms ± 1.06 ms per loop (mean ± std. dev. of 7 runs, 10 loops each)\n"
     ]
    }
   ],
   "source": [
    "%%timeit\n",
    "fast_jaccard(samples[:1000])"
   ]
  },
  {
   "cell_type": "code",
   "execution_count": 77,
   "metadata": {},
   "outputs": [],
   "source": [
    "distances = fast_jaccard(samples)"
   ]
  },
  {
   "cell_type": "code",
   "execution_count": 97,
   "metadata": {},
   "outputs": [],
   "source": [
    "j,k = np.triu_indices(5000,1)\n",
    "\n",
    "upper_triangle = distances[j,k]"
   ]
  },
  {
   "cell_type": "code",
   "execution_count": 98,
   "metadata": {},
   "outputs": [
    {
     "data": {
      "text/plain": [
       "Text(0, 0.5, 'Density')"
      ]
     },
     "execution_count": 98,
     "metadata": {},
     "output_type": "execute_result"
    },
    {
     "data": {
      "image/png": "[encoded data removed]",
      "text/plain": [
       "<Figure size 432x288 with 1 Axes>"
      ]
     },
     "metadata": {
      "needs_background": "light"
     },
     "output_type": "display_data"
    }
   ],
   "source": [
    "kdeplot(upper_triangle)\n",
    "plt.xlabel('Jaccard distance', fontsize=fsize)\n",
    "plt.ylabel('Density', fontsize=fsize)"
   ]
  },
  {
   "cell_type": "code",
   "execution_count": null,
   "metadata": {},
   "outputs": [],
   "source": []
  }
 ],
 "metadata": {
  "kernelspec": {
   "display_name": "Python 3",
   "language": "python",
   "name": "python3"
  },
  "language_info": {
   "codemirror_mode": {
    "name": "ipython",
    "version": 3
   },
   "file_extension": ".py",
   "mimetype": "text/x-python",
   "name": "python",
   "nbconvert_exporter": "python",
   "pygments_lexer": "ipython3",
   "version": "3.7.8"
  }
 },
 "nbformat": 4,
 "nbformat_minor": 4
}
